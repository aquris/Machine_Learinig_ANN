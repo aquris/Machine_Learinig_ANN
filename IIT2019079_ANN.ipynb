{
  "nbformat": 4,
  "nbformat_minor": 0,
  "metadata": {
    "colab": {
      "name": "IIT2019079_ANN.ipynb",
      "provenance": [],
      "collapsed_sections": []
    },
    "kernelspec": {
      "name": "python3",
      "display_name": "Python 3"
    },
    "language_info": {
      "name": "python"
    }
  },
  "cells": [
    {
      "cell_type": "code",
      "metadata": {
        "id": "qYJ9DeQG7CI6"
      },
      "source": [
        "import numpy as np\n",
        "import pandas as pd"
      ],
      "execution_count": null,
      "outputs": []
    },
    {
      "cell_type": "code",
      "metadata": {
        "colab": {
          "base_uri": "https://localhost:8080/",
          "height": 419
        },
        "id": "JEiiSLVqVeKg",
        "outputId": "df38d6c1-f684-42f6-96dd-5928f01116f5"
      },
      "source": [
        "df = pd.read_csv('/content/dataset.txt',sep='\\t')\n",
        "df.columns = ['a1','a2','a3','a4','a5','a6','d1','d2']\n",
        "df.index = range(0,119)\n",
        "df = df.reindex(columns=sorted(df.columns))\n",
        "df"
      ],
      "execution_count": null,
      "outputs": [
        {
          "output_type": "execute_result",
          "data": {
            "text/html": [
              "<div>\n",
              "<style scoped>\n",
              "    .dataframe tbody tr th:only-of-type {\n",
              "        vertical-align: middle;\n",
              "    }\n",
              "\n",
              "    .dataframe tbody tr th {\n",
              "        vertical-align: top;\n",
              "    }\n",
              "\n",
              "    .dataframe thead th {\n",
              "        text-align: right;\n",
              "    }\n",
              "</style>\n",
              "<table border=\"1\" class=\"dataframe\">\n",
              "  <thead>\n",
              "    <tr style=\"text-align: right;\">\n",
              "      <th></th>\n",
              "      <th>a1</th>\n",
              "      <th>a2</th>\n",
              "      <th>a3</th>\n",
              "      <th>a4</th>\n",
              "      <th>a5</th>\n",
              "      <th>a6</th>\n",
              "      <th>d1</th>\n",
              "      <th>d2</th>\n",
              "    </tr>\n",
              "  </thead>\n",
              "  <tbody>\n",
              "    <tr>\n",
              "      <th>0</th>\n",
              "      <td>35,9</td>\n",
              "      <td>no</td>\n",
              "      <td>no</td>\n",
              "      <td>yes</td>\n",
              "      <td>yes</td>\n",
              "      <td>yes</td>\n",
              "      <td>yes</td>\n",
              "      <td>no</td>\n",
              "    </tr>\n",
              "    <tr>\n",
              "      <th>1</th>\n",
              "      <td>35,9</td>\n",
              "      <td>no</td>\n",
              "      <td>yes</td>\n",
              "      <td>no</td>\n",
              "      <td>no</td>\n",
              "      <td>no</td>\n",
              "      <td>no</td>\n",
              "      <td>no</td>\n",
              "    </tr>\n",
              "    <tr>\n",
              "      <th>2</th>\n",
              "      <td>36,0</td>\n",
              "      <td>no</td>\n",
              "      <td>no</td>\n",
              "      <td>yes</td>\n",
              "      <td>yes</td>\n",
              "      <td>yes</td>\n",
              "      <td>yes</td>\n",
              "      <td>no</td>\n",
              "    </tr>\n",
              "    <tr>\n",
              "      <th>3</th>\n",
              "      <td>36,0</td>\n",
              "      <td>no</td>\n",
              "      <td>yes</td>\n",
              "      <td>no</td>\n",
              "      <td>no</td>\n",
              "      <td>no</td>\n",
              "      <td>no</td>\n",
              "      <td>no</td>\n",
              "    </tr>\n",
              "    <tr>\n",
              "      <th>4</th>\n",
              "      <td>36,0</td>\n",
              "      <td>no</td>\n",
              "      <td>yes</td>\n",
              "      <td>no</td>\n",
              "      <td>no</td>\n",
              "      <td>no</td>\n",
              "      <td>no</td>\n",
              "      <td>no</td>\n",
              "    </tr>\n",
              "    <tr>\n",
              "      <th>...</th>\n",
              "      <td>...</td>\n",
              "      <td>...</td>\n",
              "      <td>...</td>\n",
              "      <td>...</td>\n",
              "      <td>...</td>\n",
              "      <td>...</td>\n",
              "      <td>...</td>\n",
              "      <td>...</td>\n",
              "    </tr>\n",
              "    <tr>\n",
              "      <th>114</th>\n",
              "      <td>41,4</td>\n",
              "      <td>no</td>\n",
              "      <td>yes</td>\n",
              "      <td>yes</td>\n",
              "      <td>no</td>\n",
              "      <td>yes</td>\n",
              "      <td>no</td>\n",
              "      <td>yes</td>\n",
              "    </tr>\n",
              "    <tr>\n",
              "      <th>115</th>\n",
              "      <td>41,5</td>\n",
              "      <td>no</td>\n",
              "      <td>no</td>\n",
              "      <td>no</td>\n",
              "      <td>no</td>\n",
              "      <td>no</td>\n",
              "      <td>no</td>\n",
              "      <td>no</td>\n",
              "    </tr>\n",
              "    <tr>\n",
              "      <th>116</th>\n",
              "      <td>41,5</td>\n",
              "      <td>yes</td>\n",
              "      <td>yes</td>\n",
              "      <td>no</td>\n",
              "      <td>yes</td>\n",
              "      <td>no</td>\n",
              "      <td>no</td>\n",
              "      <td>yes</td>\n",
              "    </tr>\n",
              "    <tr>\n",
              "      <th>117</th>\n",
              "      <td>41,5</td>\n",
              "      <td>no</td>\n",
              "      <td>yes</td>\n",
              "      <td>yes</td>\n",
              "      <td>no</td>\n",
              "      <td>yes</td>\n",
              "      <td>no</td>\n",
              "      <td>yes</td>\n",
              "    </tr>\n",
              "    <tr>\n",
              "      <th>118</th>\n",
              "      <td>41,5</td>\n",
              "      <td>no</td>\n",
              "      <td>yes</td>\n",
              "      <td>yes</td>\n",
              "      <td>no</td>\n",
              "      <td>yes</td>\n",
              "      <td>no</td>\n",
              "      <td>yes</td>\n",
              "    </tr>\n",
              "  </tbody>\n",
              "</table>\n",
              "<p>119 rows × 8 columns</p>\n",
              "</div>"
            ],
            "text/plain": [
              "       a1   a2   a3   a4   a5   a6   d1   d2\n",
              "0    35,9   no   no  yes  yes  yes  yes   no\n",
              "1    35,9   no  yes   no   no   no   no   no\n",
              "2    36,0   no   no  yes  yes  yes  yes   no\n",
              "3    36,0   no  yes   no   no   no   no   no\n",
              "4    36,0   no  yes   no   no   no   no   no\n",
              "..    ...  ...  ...  ...  ...  ...  ...  ...\n",
              "114  41,4   no  yes  yes   no  yes   no  yes\n",
              "115  41,5   no   no   no   no   no   no   no\n",
              "116  41,5  yes  yes   no  yes   no   no  yes\n",
              "117  41,5   no  yes  yes   no  yes   no  yes\n",
              "118  41,5   no  yes  yes   no  yes   no  yes\n",
              "\n",
              "[119 rows x 8 columns]"
            ]
          },
          "metadata": {},
          "execution_count": 304
        }
      ]
    },
    {
      "cell_type": "code",
      "metadata": {
        "colab": {
          "base_uri": "https://localhost:8080/",
          "height": 419
        },
        "id": "pNqs5xBJCgO4",
        "outputId": "b0e81f82-bf8e-4f80-ebbc-59ad32031527"
      },
      "source": [
        "for i in range(0,119):\n",
        "  df['a1'][i] = float(df['a1'][i][:2]) + float(df['a1'][i][3:])/10\n",
        "\n",
        "df"
      ],
      "execution_count": null,
      "outputs": [
        {
          "output_type": "execute_result",
          "data": {
            "text/html": [
              "<div>\n",
              "<style scoped>\n",
              "    .dataframe tbody tr th:only-of-type {\n",
              "        vertical-align: middle;\n",
              "    }\n",
              "\n",
              "    .dataframe tbody tr th {\n",
              "        vertical-align: top;\n",
              "    }\n",
              "\n",
              "    .dataframe thead th {\n",
              "        text-align: right;\n",
              "    }\n",
              "</style>\n",
              "<table border=\"1\" class=\"dataframe\">\n",
              "  <thead>\n",
              "    <tr style=\"text-align: right;\">\n",
              "      <th></th>\n",
              "      <th>a1</th>\n",
              "      <th>a2</th>\n",
              "      <th>a3</th>\n",
              "      <th>a4</th>\n",
              "      <th>a5</th>\n",
              "      <th>a6</th>\n",
              "      <th>d1</th>\n",
              "      <th>d2</th>\n",
              "    </tr>\n",
              "  </thead>\n",
              "  <tbody>\n",
              "    <tr>\n",
              "      <th>0</th>\n",
              "      <td>35.9</td>\n",
              "      <td>no</td>\n",
              "      <td>no</td>\n",
              "      <td>yes</td>\n",
              "      <td>yes</td>\n",
              "      <td>yes</td>\n",
              "      <td>yes</td>\n",
              "      <td>no</td>\n",
              "    </tr>\n",
              "    <tr>\n",
              "      <th>1</th>\n",
              "      <td>35.9</td>\n",
              "      <td>no</td>\n",
              "      <td>yes</td>\n",
              "      <td>no</td>\n",
              "      <td>no</td>\n",
              "      <td>no</td>\n",
              "      <td>no</td>\n",
              "      <td>no</td>\n",
              "    </tr>\n",
              "    <tr>\n",
              "      <th>2</th>\n",
              "      <td>36</td>\n",
              "      <td>no</td>\n",
              "      <td>no</td>\n",
              "      <td>yes</td>\n",
              "      <td>yes</td>\n",
              "      <td>yes</td>\n",
              "      <td>yes</td>\n",
              "      <td>no</td>\n",
              "    </tr>\n",
              "    <tr>\n",
              "      <th>3</th>\n",
              "      <td>36</td>\n",
              "      <td>no</td>\n",
              "      <td>yes</td>\n",
              "      <td>no</td>\n",
              "      <td>no</td>\n",
              "      <td>no</td>\n",
              "      <td>no</td>\n",
              "      <td>no</td>\n",
              "    </tr>\n",
              "    <tr>\n",
              "      <th>4</th>\n",
              "      <td>36</td>\n",
              "      <td>no</td>\n",
              "      <td>yes</td>\n",
              "      <td>no</td>\n",
              "      <td>no</td>\n",
              "      <td>no</td>\n",
              "      <td>no</td>\n",
              "      <td>no</td>\n",
              "    </tr>\n",
              "    <tr>\n",
              "      <th>...</th>\n",
              "      <td>...</td>\n",
              "      <td>...</td>\n",
              "      <td>...</td>\n",
              "      <td>...</td>\n",
              "      <td>...</td>\n",
              "      <td>...</td>\n",
              "      <td>...</td>\n",
              "      <td>...</td>\n",
              "    </tr>\n",
              "    <tr>\n",
              "      <th>114</th>\n",
              "      <td>41.4</td>\n",
              "      <td>no</td>\n",
              "      <td>yes</td>\n",
              "      <td>yes</td>\n",
              "      <td>no</td>\n",
              "      <td>yes</td>\n",
              "      <td>no</td>\n",
              "      <td>yes</td>\n",
              "    </tr>\n",
              "    <tr>\n",
              "      <th>115</th>\n",
              "      <td>41.5</td>\n",
              "      <td>no</td>\n",
              "      <td>no</td>\n",
              "      <td>no</td>\n",
              "      <td>no</td>\n",
              "      <td>no</td>\n",
              "      <td>no</td>\n",
              "      <td>no</td>\n",
              "    </tr>\n",
              "    <tr>\n",
              "      <th>116</th>\n",
              "      <td>41.5</td>\n",
              "      <td>yes</td>\n",
              "      <td>yes</td>\n",
              "      <td>no</td>\n",
              "      <td>yes</td>\n",
              "      <td>no</td>\n",
              "      <td>no</td>\n",
              "      <td>yes</td>\n",
              "    </tr>\n",
              "    <tr>\n",
              "      <th>117</th>\n",
              "      <td>41.5</td>\n",
              "      <td>no</td>\n",
              "      <td>yes</td>\n",
              "      <td>yes</td>\n",
              "      <td>no</td>\n",
              "      <td>yes</td>\n",
              "      <td>no</td>\n",
              "      <td>yes</td>\n",
              "    </tr>\n",
              "    <tr>\n",
              "      <th>118</th>\n",
              "      <td>41.5</td>\n",
              "      <td>no</td>\n",
              "      <td>yes</td>\n",
              "      <td>yes</td>\n",
              "      <td>no</td>\n",
              "      <td>yes</td>\n",
              "      <td>no</td>\n",
              "      <td>yes</td>\n",
              "    </tr>\n",
              "  </tbody>\n",
              "</table>\n",
              "<p>119 rows × 8 columns</p>\n",
              "</div>"
            ],
            "text/plain": [
              "       a1   a2   a3   a4   a5   a6   d1   d2\n",
              "0    35.9   no   no  yes  yes  yes  yes   no\n",
              "1    35.9   no  yes   no   no   no   no   no\n",
              "2      36   no   no  yes  yes  yes  yes   no\n",
              "3      36   no  yes   no   no   no   no   no\n",
              "4      36   no  yes   no   no   no   no   no\n",
              "..    ...  ...  ...  ...  ...  ...  ...  ...\n",
              "114  41.4   no  yes  yes   no  yes   no  yes\n",
              "115  41.5   no   no   no   no   no   no   no\n",
              "116  41.5  yes  yes   no  yes   no   no  yes\n",
              "117  41.5   no  yes  yes   no  yes   no  yes\n",
              "118  41.5   no  yes  yes   no  yes   no  yes\n",
              "\n",
              "[119 rows x 8 columns]"
            ]
          },
          "metadata": {},
          "execution_count": 41
        }
      ]
    },
    {
      "cell_type": "code",
      "metadata": {
        "colab": {
          "base_uri": "https://localhost:8080/",
          "height": 419
        },
        "id": "Lyj-eqyeEDYQ",
        "outputId": "c37d35b1-d0e7-4bda-a26e-46dbda0fbb40"
      },
      "source": [
        "for i in df.columns[1:]:\n",
        "  for j in range(0,119):\n",
        "    if df[i][j] == 'yes':\n",
        "      df[i][j] = 1\n",
        "    else:\n",
        "      df[i][j] = 0\n",
        "\n",
        "df"
      ],
      "execution_count": null,
      "outputs": [
        {
          "output_type": "execute_result",
          "data": {
            "text/html": [
              "<div>\n",
              "<style scoped>\n",
              "    .dataframe tbody tr th:only-of-type {\n",
              "        vertical-align: middle;\n",
              "    }\n",
              "\n",
              "    .dataframe tbody tr th {\n",
              "        vertical-align: top;\n",
              "    }\n",
              "\n",
              "    .dataframe thead th {\n",
              "        text-align: right;\n",
              "    }\n",
              "</style>\n",
              "<table border=\"1\" class=\"dataframe\">\n",
              "  <thead>\n",
              "    <tr style=\"text-align: right;\">\n",
              "      <th></th>\n",
              "      <th>a1</th>\n",
              "      <th>a2</th>\n",
              "      <th>a3</th>\n",
              "      <th>a4</th>\n",
              "      <th>a5</th>\n",
              "      <th>a6</th>\n",
              "      <th>d1</th>\n",
              "      <th>d2</th>\n",
              "    </tr>\n",
              "  </thead>\n",
              "  <tbody>\n",
              "    <tr>\n",
              "      <th>0</th>\n",
              "      <td>35.9</td>\n",
              "      <td>0</td>\n",
              "      <td>0</td>\n",
              "      <td>1</td>\n",
              "      <td>1</td>\n",
              "      <td>1</td>\n",
              "      <td>1</td>\n",
              "      <td>0</td>\n",
              "    </tr>\n",
              "    <tr>\n",
              "      <th>1</th>\n",
              "      <td>35.9</td>\n",
              "      <td>0</td>\n",
              "      <td>1</td>\n",
              "      <td>0</td>\n",
              "      <td>0</td>\n",
              "      <td>0</td>\n",
              "      <td>0</td>\n",
              "      <td>0</td>\n",
              "    </tr>\n",
              "    <tr>\n",
              "      <th>2</th>\n",
              "      <td>36</td>\n",
              "      <td>0</td>\n",
              "      <td>0</td>\n",
              "      <td>1</td>\n",
              "      <td>1</td>\n",
              "      <td>1</td>\n",
              "      <td>1</td>\n",
              "      <td>0</td>\n",
              "    </tr>\n",
              "    <tr>\n",
              "      <th>3</th>\n",
              "      <td>36</td>\n",
              "      <td>0</td>\n",
              "      <td>1</td>\n",
              "      <td>0</td>\n",
              "      <td>0</td>\n",
              "      <td>0</td>\n",
              "      <td>0</td>\n",
              "      <td>0</td>\n",
              "    </tr>\n",
              "    <tr>\n",
              "      <th>4</th>\n",
              "      <td>36</td>\n",
              "      <td>0</td>\n",
              "      <td>1</td>\n",
              "      <td>0</td>\n",
              "      <td>0</td>\n",
              "      <td>0</td>\n",
              "      <td>0</td>\n",
              "      <td>0</td>\n",
              "    </tr>\n",
              "    <tr>\n",
              "      <th>...</th>\n",
              "      <td>...</td>\n",
              "      <td>...</td>\n",
              "      <td>...</td>\n",
              "      <td>...</td>\n",
              "      <td>...</td>\n",
              "      <td>...</td>\n",
              "      <td>...</td>\n",
              "      <td>...</td>\n",
              "    </tr>\n",
              "    <tr>\n",
              "      <th>114</th>\n",
              "      <td>41.4</td>\n",
              "      <td>0</td>\n",
              "      <td>1</td>\n",
              "      <td>1</td>\n",
              "      <td>0</td>\n",
              "      <td>1</td>\n",
              "      <td>0</td>\n",
              "      <td>1</td>\n",
              "    </tr>\n",
              "    <tr>\n",
              "      <th>115</th>\n",
              "      <td>41.5</td>\n",
              "      <td>0</td>\n",
              "      <td>0</td>\n",
              "      <td>0</td>\n",
              "      <td>0</td>\n",
              "      <td>0</td>\n",
              "      <td>0</td>\n",
              "      <td>0</td>\n",
              "    </tr>\n",
              "    <tr>\n",
              "      <th>116</th>\n",
              "      <td>41.5</td>\n",
              "      <td>1</td>\n",
              "      <td>1</td>\n",
              "      <td>0</td>\n",
              "      <td>1</td>\n",
              "      <td>0</td>\n",
              "      <td>0</td>\n",
              "      <td>1</td>\n",
              "    </tr>\n",
              "    <tr>\n",
              "      <th>117</th>\n",
              "      <td>41.5</td>\n",
              "      <td>0</td>\n",
              "      <td>1</td>\n",
              "      <td>1</td>\n",
              "      <td>0</td>\n",
              "      <td>1</td>\n",
              "      <td>0</td>\n",
              "      <td>1</td>\n",
              "    </tr>\n",
              "    <tr>\n",
              "      <th>118</th>\n",
              "      <td>41.5</td>\n",
              "      <td>0</td>\n",
              "      <td>1</td>\n",
              "      <td>1</td>\n",
              "      <td>0</td>\n",
              "      <td>1</td>\n",
              "      <td>0</td>\n",
              "      <td>1</td>\n",
              "    </tr>\n",
              "  </tbody>\n",
              "</table>\n",
              "<p>119 rows × 8 columns</p>\n",
              "</div>"
            ],
            "text/plain": [
              "       a1 a2 a3 a4 a5 a6 d1 d2\n",
              "0    35.9  0  0  1  1  1  1  0\n",
              "1    35.9  0  1  0  0  0  0  0\n",
              "2      36  0  0  1  1  1  1  0\n",
              "3      36  0  1  0  0  0  0  0\n",
              "4      36  0  1  0  0  0  0  0\n",
              "..    ... .. .. .. .. .. .. ..\n",
              "114  41.4  0  1  1  0  1  0  1\n",
              "115  41.5  0  0  0  0  0  0  0\n",
              "116  41.5  1  1  0  1  0  0  1\n",
              "117  41.5  0  1  1  0  1  0  1\n",
              "118  41.5  0  1  1  0  1  0  1\n",
              "\n",
              "[119 rows x 8 columns]"
            ]
          },
          "metadata": {},
          "execution_count": 45
        }
      ]
    },
    {
      "cell_type": "code",
      "metadata": {
        "id": "7gt04ZsSFSph"
      },
      "source": [
        "df.to_csv('data.csv')"
      ],
      "execution_count": null,
      "outputs": []
    },
    {
      "cell_type": "code",
      "metadata": {
        "id": "mqDs2wSTFrHU"
      },
      "source": [
        "X = df[df.columns[:6]]\n",
        "Y = df[df.columns[6:]]"
      ],
      "execution_count": null,
      "outputs": []
    },
    {
      "cell_type": "code",
      "metadata": {
        "colab": {
          "base_uri": "https://localhost:8080/",
          "height": 541
        },
        "id": "fEaBYFOSOAWY",
        "outputId": "841e34fb-c440-45be-ffae-1a7ddffee95f"
      },
      "source": [
        "#normalizing the dataset\n",
        "X['a1'] = X['a1']/max(X['a1'])\n",
        "\n",
        "X"
      ],
      "execution_count": null,
      "outputs": [
        {
          "output_type": "stream",
          "name": "stderr",
          "text": [
            "/usr/local/lib/python3.7/dist-packages/ipykernel_launcher.py:2: SettingWithCopyWarning: \n",
            "A value is trying to be set on a copy of a slice from a DataFrame.\n",
            "Try using .loc[row_indexer,col_indexer] = value instead\n",
            "\n",
            "See the caveats in the documentation: https://pandas.pydata.org/pandas-docs/stable/user_guide/indexing.html#returning-a-view-versus-a-copy\n",
            "  \n"
          ]
        },
        {
          "output_type": "execute_result",
          "data": {
            "text/html": [
              "<div>\n",
              "<style scoped>\n",
              "    .dataframe tbody tr th:only-of-type {\n",
              "        vertical-align: middle;\n",
              "    }\n",
              "\n",
              "    .dataframe tbody tr th {\n",
              "        vertical-align: top;\n",
              "    }\n",
              "\n",
              "    .dataframe thead th {\n",
              "        text-align: right;\n",
              "    }\n",
              "</style>\n",
              "<table border=\"1\" class=\"dataframe\">\n",
              "  <thead>\n",
              "    <tr style=\"text-align: right;\">\n",
              "      <th></th>\n",
              "      <th>a1</th>\n",
              "      <th>a2</th>\n",
              "      <th>a3</th>\n",
              "      <th>a4</th>\n",
              "      <th>a5</th>\n",
              "      <th>a6</th>\n",
              "    </tr>\n",
              "  </thead>\n",
              "  <tbody>\n",
              "    <tr>\n",
              "      <th>0</th>\n",
              "      <td>0.86506</td>\n",
              "      <td>0</td>\n",
              "      <td>0</td>\n",
              "      <td>1</td>\n",
              "      <td>1</td>\n",
              "      <td>1</td>\n",
              "    </tr>\n",
              "    <tr>\n",
              "      <th>1</th>\n",
              "      <td>0.86506</td>\n",
              "      <td>0</td>\n",
              "      <td>1</td>\n",
              "      <td>0</td>\n",
              "      <td>0</td>\n",
              "      <td>0</td>\n",
              "    </tr>\n",
              "    <tr>\n",
              "      <th>2</th>\n",
              "      <td>0.86747</td>\n",
              "      <td>0</td>\n",
              "      <td>0</td>\n",
              "      <td>1</td>\n",
              "      <td>1</td>\n",
              "      <td>1</td>\n",
              "    </tr>\n",
              "    <tr>\n",
              "      <th>3</th>\n",
              "      <td>0.86747</td>\n",
              "      <td>0</td>\n",
              "      <td>1</td>\n",
              "      <td>0</td>\n",
              "      <td>0</td>\n",
              "      <td>0</td>\n",
              "    </tr>\n",
              "    <tr>\n",
              "      <th>4</th>\n",
              "      <td>0.86747</td>\n",
              "      <td>0</td>\n",
              "      <td>1</td>\n",
              "      <td>0</td>\n",
              "      <td>0</td>\n",
              "      <td>0</td>\n",
              "    </tr>\n",
              "    <tr>\n",
              "      <th>...</th>\n",
              "      <td>...</td>\n",
              "      <td>...</td>\n",
              "      <td>...</td>\n",
              "      <td>...</td>\n",
              "      <td>...</td>\n",
              "      <td>...</td>\n",
              "    </tr>\n",
              "    <tr>\n",
              "      <th>114</th>\n",
              "      <td>0.99759</td>\n",
              "      <td>0</td>\n",
              "      <td>1</td>\n",
              "      <td>1</td>\n",
              "      <td>0</td>\n",
              "      <td>1</td>\n",
              "    </tr>\n",
              "    <tr>\n",
              "      <th>115</th>\n",
              "      <td>1</td>\n",
              "      <td>0</td>\n",
              "      <td>0</td>\n",
              "      <td>0</td>\n",
              "      <td>0</td>\n",
              "      <td>0</td>\n",
              "    </tr>\n",
              "    <tr>\n",
              "      <th>116</th>\n",
              "      <td>1</td>\n",
              "      <td>1</td>\n",
              "      <td>1</td>\n",
              "      <td>0</td>\n",
              "      <td>1</td>\n",
              "      <td>0</td>\n",
              "    </tr>\n",
              "    <tr>\n",
              "      <th>117</th>\n",
              "      <td>1</td>\n",
              "      <td>0</td>\n",
              "      <td>1</td>\n",
              "      <td>1</td>\n",
              "      <td>0</td>\n",
              "      <td>1</td>\n",
              "    </tr>\n",
              "    <tr>\n",
              "      <th>118</th>\n",
              "      <td>1</td>\n",
              "      <td>0</td>\n",
              "      <td>1</td>\n",
              "      <td>1</td>\n",
              "      <td>0</td>\n",
              "      <td>1</td>\n",
              "    </tr>\n",
              "  </tbody>\n",
              "</table>\n",
              "<p>119 rows × 6 columns</p>\n",
              "</div>"
            ],
            "text/plain": [
              "          a1 a2 a3 a4 a5 a6\n",
              "0    0.86506  0  0  1  1  1\n",
              "1    0.86506  0  1  0  0  0\n",
              "2    0.86747  0  0  1  1  1\n",
              "3    0.86747  0  1  0  0  0\n",
              "4    0.86747  0  1  0  0  0\n",
              "..       ... .. .. .. .. ..\n",
              "114  0.99759  0  1  1  0  1\n",
              "115        1  0  0  0  0  0\n",
              "116        1  1  1  0  1  0\n",
              "117        1  0  1  1  0  1\n",
              "118        1  0  1  1  0  1\n",
              "\n",
              "[119 rows x 6 columns]"
            ]
          },
          "metadata": {},
          "execution_count": 65
        }
      ]
    },
    {
      "cell_type": "code",
      "metadata": {
        "colab": {
          "base_uri": "https://localhost:8080/"
        },
        "id": "8zF1b0FnGi2t",
        "outputId": "0a8844f0-93a8-4d48-c6c3-c54446b135ab"
      },
      "source": [
        "print(X)\n",
        "print(Y)"
      ],
      "execution_count": null,
      "outputs": [
        {
          "output_type": "stream",
          "name": "stdout",
          "text": [
            "          a1 a2 a3 a4 a5 a6\n",
            "0    0.86506  0  0  1  1  1\n",
            "1    0.86506  0  1  0  0  0\n",
            "2    0.86747  0  0  1  1  1\n",
            "3    0.86747  0  1  0  0  0\n",
            "4    0.86747  0  1  0  0  0\n",
            "..       ... .. .. .. .. ..\n",
            "114  0.99759  0  1  1  0  1\n",
            "115        1  0  0  0  0  0\n",
            "116        1  1  1  0  1  0\n",
            "117        1  0  1  1  0  1\n",
            "118        1  0  1  1  0  1\n",
            "\n",
            "[119 rows x 6 columns]\n",
            "    d1 d2\n",
            "0    1  0\n",
            "1    0  0\n",
            "2    1  0\n",
            "3    0  0\n",
            "4    0  0\n",
            "..  .. ..\n",
            "114  0  1\n",
            "115  0  0\n",
            "116  0  1\n",
            "117  0  1\n",
            "118  0  1\n",
            "\n",
            "[119 rows x 2 columns]\n"
          ]
        }
      ]
    },
    {
      "cell_type": "code",
      "metadata": {
        "id": "DQXMK69lGpwc"
      },
      "source": [
        "x_train = X[:101]\n",
        "x_test = X[101:]\n",
        "y_train = Y[:101]\n",
        "y_test = Y[101:]"
      ],
      "execution_count": null,
      "outputs": []
    },
    {
      "cell_type": "code",
      "metadata": {
        "colab": {
          "base_uri": "https://localhost:8080/"
        },
        "id": "mJ2J6gA-Gygo",
        "outputId": "38b908c8-0d46-451c-8507-9a42db5fc453"
      },
      "source": [
        "print(x_train)\n",
        "print(y_test)"
      ],
      "execution_count": null,
      "outputs": [
        {
          "output_type": "stream",
          "name": "stdout",
          "text": [
            "           a1 a2 a3 a4 a5 a6\n",
            "0     0.86506  0  0  1  1  1\n",
            "1     0.86506  0  1  0  0  0\n",
            "2     0.86747  0  0  1  1  1\n",
            "3     0.86747  0  1  0  0  0\n",
            "4     0.86747  0  1  0  0  0\n",
            "..        ... .. .. .. .. ..\n",
            "96   0.983133  0  1  1  0  1\n",
            "97   0.985542  1  1  1  1  0\n",
            "98   0.985542  1  1  1  1  0\n",
            "99   0.985542  0  1  1  0  1\n",
            "100  0.987952  1  1  1  1  1\n",
            "\n",
            "[101 rows x 6 columns]\n",
            "    d1 d2\n",
            "101  0  0\n",
            "102  0  1\n",
            "103  0  1\n",
            "104  1  1\n",
            "105  1  1\n",
            "106  0  0\n",
            "107  0  1\n",
            "108  0  1\n",
            "109  1  1\n",
            "110  0  0\n",
            "111  0  1\n",
            "112  0  1\n",
            "113  1  1\n",
            "114  0  1\n",
            "115  0  0\n",
            "116  0  1\n",
            "117  0  1\n",
            "118  0  1\n"
          ]
        }
      ]
    },
    {
      "cell_type": "markdown",
      "metadata": {
        "id": "emgO0dKIdLzM"
      },
      "source": [
        "# **Single hidden layer**"
      ]
    },
    {
      "cell_type": "code",
      "metadata": {
        "id": "g94xx567YPHQ"
      },
      "source": [
        "class ANN():\n",
        "  def __init__(self,input_size,hidden_size,output_size,data_len):\n",
        "    self.input_size = input_size\n",
        "    self.hidden_size = hidden_size\n",
        "    self.output_size = output_size\n",
        "    self.m = data_len\n",
        "    self.weight1 = np.random.randn(self.input_size,self.hidden_size)\n",
        "    self.weight2 = np.random.randn(self.hidden_size,self.output_size)\n",
        "\n",
        "  def sigmoid(self,X,deriv = False):\n",
        "      if deriv:\n",
        "        return X*(1-X)\n",
        "      else:\n",
        "        return 1/(1+np.exp(X))\n",
        "\n",
        "  def feed_forward(self,X):\n",
        "    self.o1 = np.dot(X,self.weight1).astype(float)\n",
        "    self.s1 = self.sigmoid(self.o1)\n",
        "    self.o2 = np.dot(self.s1,self.weight2).astype(float)\n",
        "    self.s2 = self.sigmoid(self.o2)\n",
        "    return self.s2,self.s1\n",
        "\n",
        "  def loss(self,y,output):\n",
        "    loss = 0\n",
        "    for i in range(len(output)):\n",
        "      loss += -(y_test.iloc[i][0]*np.log(output[0][i][0]) + (1-y_test.iloc[i][0])*(1-np.log(output[0][i][0])))\n",
        "      loss += -(y_test.iloc[i][1]*np.log(output[0][i][1]) + (1-y_test.iloc[i][1])*(1-np.log(output[0][i][1])))\n",
        "\n",
        "    return loss\n",
        "    \n",
        "  def back_prop(self,x,y,output_y,lr = 0.4):\n",
        "    #print(output_y)\n",
        "    #print(y)\n",
        "    self.dz2 = output_y - y\n",
        "    #print(self.dz2)\n",
        "    self.dw2 = (1/self.m)*np.dot(self.s1.T,self.dz2)\n",
        "    #print(self.weight2.shape)\n",
        "    #print(self.dz2.shape)\n",
        "    #print(self.weight2.dot(self.dz2).shape)\n",
        "    self.dz1 = self.weight2.dot(self.dz2.T).T*self.s1*(1-self.s1)\n",
        "    self.dw1 = (1/self.m)*np.dot(self.dz1.T,x).T\n",
        "\n",
        "    self.weight2 = self.weight2 - lr*self.dw2\n",
        "    self.weight1 = self.weight1 - lr*self.dw1\n",
        "\n",
        "    return self.weight2,self.weight1\n",
        "\n",
        "  def train(self,x,y):\n",
        "    output = self.feed_forward(np.array(x[:]))\n",
        "    w2,w1 = self.back_prop(np.array(x[:]),np.array(y[:]),output[0])\n",
        "    loss = self.loss(np.array(y[:]),output)\n",
        "    return loss,w2,w1"
      ],
      "execution_count": null,
      "outputs": []
    },
    {
      "cell_type": "code",
      "metadata": {
        "id": "5_Hgu4aIOrbR"
      },
      "source": [
        "model = ANN(6,7,2,101)\n",
        "output = model.feed_forward(np.array(x_train[:]))\n",
        "w2,w1 = model.back_prop(np.array(x_train[:]),np.array(y_train[:]),output[0])"
      ],
      "execution_count": null,
      "outputs": []
    },
    {
      "cell_type": "code",
      "metadata": {
        "colab": {
          "base_uri": "https://localhost:8080/"
        },
        "id": "RbotZm3iNDMV",
        "outputId": "c18cac25-41f1-429b-a938-d0b0f32e97d9"
      },
      "source": [
        "print(w2)\n",
        "print(w1)"
      ],
      "execution_count": null,
      "outputs": [
        {
          "output_type": "stream",
          "name": "stdout",
          "text": [
            "[[-0.5661731804991897 -0.7462313750365169]\n",
            " [-0.1693351217938721 2.1592082899051883]\n",
            " [0.10637813660930011 0.005276467259015229]\n",
            " [0.500356174605151 0.055536756322884295]\n",
            " [-2.1102464849646423 0.017091581203558328]\n",
            " [1.1710382891543052 -0.15913925203562343]\n",
            " [-0.7717261091014211 -0.012394925454233523]]\n",
            "[[-0.007593562222621706 0.4380342562897211 0.06139805975780379\n",
            "  -0.335531081389286 -1.14198357919443 -1.1923426377326098\n",
            "  -0.1537693165622211]\n",
            " [0.6627311145159053 2.3512812504082894 -0.256557472914523\n",
            "  1.1678445055475366 0.29320197654839236 2.162467045903771\n",
            "  -1.3317813911113217]\n",
            " [1.2478888615183763 -0.7564319370495227 -0.34209393440600755\n",
            "  -1.4855605058890802 -0.4519039291730813 -0.7366553892935063\n",
            "  -0.43855290068850383]\n",
            " [1.1250372957377053 -1.9376185627853086 0.5646428740581937\n",
            "  -1.4924683686952638 -0.7552429878530061 -0.4075089891493989\n",
            "  -0.11654018917717708]\n",
            " [1.522392502967889 0.6904193861293545 0.3684498113030947\n",
            "  2.0259256852950007 1.4815139138605193 -1.19386973433282\n",
            "  0.2054683392095009]\n",
            " [-1.637168801354615 1.5254617478962447 -0.6446382181778787\n",
            "  -1.2317568180577172 0.3228482777370447 2.644453363448496\n",
            "  0.9271420445260387]]\n"
          ]
        }
      ]
    },
    {
      "cell_type": "code",
      "metadata": {
        "id": "p8QaM8aSIOvr"
      },
      "source": [
        "model = ANN(6,7,2,101)\n",
        "output = model.feed_forward(np.array(x_train[:]))\n",
        "w2,w1 = model.back_prop(np.array(x_train[:]),np.array(y_train[:]),output[0])"
      ],
      "execution_count": null,
      "outputs": []
    },
    {
      "cell_type": "code",
      "metadata": {
        "colab": {
          "base_uri": "https://localhost:8080/"
        },
        "id": "b_lUIacOIZou",
        "outputId": "abc89d7b-6735-4e40-8021-31f925163db6"
      },
      "source": [
        "print(w2)\n",
        "print(w1)"
      ],
      "execution_count": null,
      "outputs": [
        {
          "output_type": "stream",
          "name": "stdout",
          "text": [
            "[[-0.7139761536468557 -0.5483397449842917]\n",
            " [-1.3035130920336986 -0.5353911565276415]\n",
            " [-1.6217722400096781 0.051290947237478415]\n",
            " [-0.3290505629474745 1.200545116103558]\n",
            " [0.20020077664311509 -0.35920549362214205]\n",
            " [-0.9515008737333142 -1.0684211323402604]\n",
            " [-0.7565428008649177 0.6723390877702683]]\n",
            "[[0.7199851467508391 -0.881121747992615 2.7910107935160275\n",
            "  -0.16120384848213537 -0.26030822389871966 0.8782570345720678\n",
            "  -0.03231145537440812]\n",
            " [0.07628285899314195 0.8698086975158905 -1.2954178199015367\n",
            "  2.445176470129634 1.8288631218640417 -0.3513794638943372\n",
            "  -0.0929447144218003]\n",
            " [-0.44650126972266907 -2.195295969943826 -0.2817577551787862\n",
            "  0.6627237145129402 -0.5379509507213843 -1.9808376209853418\n",
            "  -0.9423342999826411]\n",
            " [-0.8588978112535587 -0.19110879442842868 0.6869653125589616\n",
            "  0.5274908890730491 -0.6057379485855097 -1.794598531964287\n",
            "  -0.3139780944875929]\n",
            " [-2.5585012442171067 0.339094423628889 -1.7676584935005755\n",
            "  1.0467730384555012 -0.06590415799197616 -0.23407615090804007\n",
            "  -2.031245600072475]\n",
            " [1.8424705772470409 -0.045129858247446156 -0.16389689269755636\n",
            "  2.5128502296322357 0.8861898876234879 1.0549043994725638\n",
            "  -0.7352052376987782]]\n"
          ]
        }
      ]
    },
    {
      "cell_type": "code",
      "metadata": {
        "id": "rxBGTDZDIduS"
      },
      "source": [
        "model = ANN(6,7,2,101)\n",
        "output = model.feed_forward(np.array(x_train[:]))\n",
        "w2,w1 = model.back_prop(np.array(x_train[:]),np.array(y_train[:]),output[0])"
      ],
      "execution_count": null,
      "outputs": []
    },
    {
      "cell_type": "code",
      "metadata": {
        "colab": {
          "base_uri": "https://localhost:8080/"
        },
        "id": "hUOk0_TrIeSP",
        "outputId": "bf60e80a-a107-4a3f-c530-356851ec452a"
      },
      "source": [
        "print(w2,w1)"
      ],
      "execution_count": null,
      "outputs": [
        {
          "output_type": "stream",
          "name": "stdout",
          "text": [
            "[[-0.49285334093057875 0.39870065818810374]\n",
            " [0.14419540016422058 0.35958177914547684]\n",
            " [-1.0018588065722347 0.38371933211616693]\n",
            " [0.3558693442258898 0.968801947841239]\n",
            " [0.6758308030717242 0.07189290582174362]\n",
            " [-0.8787449988259686 0.03397962844673087]\n",
            " [2.602432525968315 -1.4411550016449786]] [[1.6879039708834955 0.9343494159961462 -0.09795435659266519\n",
            "  -0.292024295725212 -0.28683890166210185 0.14898549395935545\n",
            "  0.8738590225270276]\n",
            " [0.5124072422653253 0.4418069819204186 1.1182520767629438\n",
            "  -1.1097107451348218 -0.8800473282866941 0.4762708007056569\n",
            "  0.25420192545871684]\n",
            " [-0.3359701712121203 1.0836594651451976 0.10686972615330943\n",
            "  -1.7318024237868337 -1.0319282519466435 -1.287252361427897\n",
            "  0.26840618224870977]\n",
            " [-1.52845016654103 0.3227124924635949 -0.35761100229783077\n",
            "  0.391354864442577 -2.2961250302716767 1.4896290088974902\n",
            "  0.4885377315987552]\n",
            " [-0.04787570546155226 0.25908948035267937 -1.0267905920709344\n",
            "  1.3177046410344053 -0.37484335957559634 1.232726630371526\n",
            "  -1.0279627990259088]\n",
            " [1.1731283387291074 0.7178438052107886 -0.1802989306589792\n",
            "  -0.16982530892285205 0.5113289954989179 -0.39141817057292655\n",
            "  0.43641836606055495]]\n"
          ]
        }
      ]
    },
    {
      "cell_type": "code",
      "metadata": {
        "colab": {
          "base_uri": "https://localhost:8080/"
        },
        "id": "4HiZYYyWLTp9",
        "outputId": "317fda4c-d692-488e-b91d-ae50c5619a8e"
      },
      "source": [
        "print(w2.shape)\n",
        "print(w1.shape)"
      ],
      "execution_count": null,
      "outputs": [
        {
          "output_type": "stream",
          "name": "stdout",
          "text": [
            "(7, 2)\n",
            "(6, 7)\n"
          ]
        }
      ]
    },
    {
      "cell_type": "code",
      "metadata": {
        "colab": {
          "base_uri": "https://localhost:8080/"
        },
        "id": "ewXcfGblNrnr",
        "outputId": "1d840578-cd6d-4e77-e224-d36321cbefe0"
      },
      "source": [
        "n_epochs = 50\n",
        "model1 = ANN(6,7,2,119)\n",
        "for i in range(n_epochs):\n",
        "  result = model1.train(x_train,y_train)\n",
        "  print(\"Epoch:-\",i,\" Loss:-\",result[0])\n"
      ],
      "execution_count": null,
      "outputs": [
        {
          "output_type": "stream",
          "name": "stdout",
          "text": [
            "Epoch:- 0  Loss:- -3.724730754524902\n",
            "Epoch:- 1  Loss:- -3.7086581368500404\n",
            "Epoch:- 2  Loss:- -3.6895459764381577\n",
            "Epoch:- 3  Loss:- -3.6670141023261493\n",
            "Epoch:- 4  Loss:- -3.6405442337375544\n",
            "Epoch:- 5  Loss:- -3.6095213743896215\n",
            "Epoch:- 6  Loss:- -3.57337102307281\n",
            "Epoch:- 7  Loss:- -3.531797572652063\n",
            "Epoch:- 8  Loss:- -3.485058642283202\n",
            "Epoch:- 9  Loss:- -3.4341184647609433\n",
            "Epoch:- 10  Loss:- -3.3804899667526485\n",
            "Epoch:- 11  Loss:- -3.325718370364931\n",
            "Epoch:- 12  Loss:- -3.2707951240042705\n",
            "Epoch:- 13  Loss:- -3.215956789919171\n",
            "Epoch:- 14  Loss:- -3.160935487159096\n",
            "Epoch:- 15  Loss:- -3.105297708876715\n",
            "Epoch:- 16  Loss:- -3.048621423675579\n",
            "Epoch:- 17  Loss:- -2.990540795258275\n",
            "Epoch:- 18  Loss:- -2.9307592445229926\n",
            "Epoch:- 19  Loss:- -2.869084155212843\n",
            "Epoch:- 20  Loss:- -2.805491883486144\n",
            "Epoch:- 21  Loss:- -2.740210382312209\n",
            "Epoch:- 22  Loss:- -2.673799418957658\n",
            "Epoch:- 23  Loss:- -2.6072084184512683\n",
            "Epoch:- 24  Loss:- -2.541795336798831\n",
            "Epoch:- 25  Loss:- -2.4792933190340283\n",
            "Epoch:- 26  Loss:- -2.4217145646999687\n",
            "Epoch:- 27  Loss:- -2.3711861038236948\n",
            "Epoch:- 28  Loss:- -2.3297244498313985\n",
            "Epoch:- 29  Loss:- -2.2989758120200037\n",
            "Epoch:- 30  Loss:- -2.279970221614225\n",
            "Epoch:- 31  Loss:- -2.2729513318536885\n",
            "Epoch:- 32  Loss:- -2.2773358263473167\n",
            "Epoch:- 33  Loss:- -2.2918198673772783\n",
            "Epoch:- 34  Loss:- -2.3145989733281045\n",
            "Epoch:- 35  Loss:- -2.343635108232707\n",
            "Epoch:- 36  Loss:- -2.3769079860621076\n",
            "Epoch:- 37  Loss:- -2.4126105586982916\n",
            "Epoch:- 38  Loss:- -2.4492697655923474\n",
            "Epoch:- 39  Loss:- -2.485789999819419\n",
            "Epoch:- 40  Loss:- -2.52143242466255\n",
            "Epoch:- 41  Loss:- -2.555754586632017\n",
            "Epoch:- 42  Loss:- -2.588536136754772\n",
            "Epoch:- 43  Loss:- -2.619709260801319\n",
            "Epoch:- 44  Loss:- -2.6493027903346547\n",
            "Epoch:- 45  Loss:- -2.6774016602513724\n",
            "Epoch:- 46  Loss:- -2.7041196009015382\n",
            "Epoch:- 47  Loss:- -2.729581804527331\n",
            "Epoch:- 48  Loss:- -2.7539145124569786\n",
            "Epoch:- 49  Loss:- -2.777239142316921\n"
          ]
        }
      ]
    },
    {
      "cell_type": "code",
      "metadata": {
        "colab": {
          "base_uri": "https://localhost:8080/"
        },
        "id": "FRthuCGpg6kV",
        "outputId": "4f0d6100-96c4-4d1d-a2d5-aba57f28f5f1"
      },
      "source": [
        "output = model1.feed_forward(np.array(x_test[:]))\n",
        "print(output[0])"
      ],
      "execution_count": null,
      "outputs": [
        {
          "output_type": "stream",
          "name": "stdout",
          "text": [
            "[[0.9206702  0.05748998]\n",
            " [0.72204014 0.19664112]\n",
            " [0.58501017 0.33965077]\n",
            " [0.62178223 0.36764126]\n",
            " [0.68119087 0.25718263]\n",
            " [0.9203272  0.05778163]\n",
            " [0.72143093 0.19721924]\n",
            " [0.58479957 0.33988205]\n",
            " [0.62141086 0.36803137]\n",
            " [0.91998368 0.05807385]\n",
            " [0.72082261 0.197797  ]\n",
            " [0.58458962 0.34011264]\n",
            " [0.68010518 0.25830049]\n",
            " [0.58417161 0.34057172]\n",
            " [0.91895004 0.05895388]\n",
            " [0.71900312 0.19952806]\n",
            " [0.58396355 0.34080023]\n",
            " [0.58396355 0.34080023]]\n"
          ]
        }
      ]
    },
    {
      "cell_type": "code",
      "metadata": {
        "colab": {
          "base_uri": "https://localhost:8080/"
        },
        "id": "VPaZlmpLiLB7",
        "outputId": "62cd7771-2dab-431c-9f20-08e592b5a2b4"
      },
      "source": [
        "print(y_test)"
      ],
      "execution_count": null,
      "outputs": [
        {
          "output_type": "stream",
          "name": "stdout",
          "text": [
            "    d1 d2\n",
            "101  0  0\n",
            "102  0  1\n",
            "103  0  1\n",
            "104  1  1\n",
            "105  1  1\n",
            "106  0  0\n",
            "107  0  1\n",
            "108  0  1\n",
            "109  1  1\n",
            "110  0  0\n",
            "111  0  1\n",
            "112  0  1\n",
            "113  1  1\n",
            "114  0  1\n",
            "115  0  0\n",
            "116  0  1\n",
            "117  0  1\n",
            "118  0  1\n"
          ]
        }
      ]
    },
    {
      "cell_type": "code",
      "metadata": {
        "colab": {
          "base_uri": "https://localhost:8080/"
        },
        "id": "CeFCRPOV_DEl",
        "outputId": "34f104e2-5366-4778-f3b2-3f44a28a34a9"
      },
      "source": [
        "print(\"testing loss:- \",model1.loss(np.array(y_test[:]),output))"
      ],
      "execution_count": null,
      "outputs": [
        {
          "output_type": "stream",
          "name": "stdout",
          "text": [
            "testing loss:-  -4.638097611106936\n"
          ]
        }
      ]
    },
    {
      "cell_type": "markdown",
      "metadata": {
        "id": "qunp_pBZdP6w"
      },
      "source": [
        "# **Double hidden layer**"
      ]
    },
    {
      "cell_type": "code",
      "metadata": {
        "id": "AflfUfmlWF7g"
      },
      "source": [
        "class ANN():\n",
        "  def __init__(self,input_size,hidden_size1,hidden_size2,output_size,data_len):\n",
        "    self.input_size = input_size\n",
        "    self.hidden_size1 = hidden_size1\n",
        "    self.hidden_size2 = hidden_size2\n",
        "    self.output_size = output_size\n",
        "    self.m = data_len\n",
        "    self.weight1 = np.random.randn(self.input_size,self.hidden_size1)\n",
        "    self.weight2 = np.random.randn(self.hidden_size1,self.hidden_size2)\n",
        "    self.weight3 = np.random.randn(self.hidden_size2,self.output_size)\n",
        "\n",
        "  def sigmoid(self,X,deriv = False):\n",
        "      if deriv:\n",
        "        return X*(1-X)\n",
        "      else:\n",
        "        return 1/(1+np.exp(X))\n",
        "\n",
        "  def feed_forward(self,X):\n",
        "    self.o1 = np.dot(X,self.weight1).astype(float)\n",
        "    self.s1 = self.sigmoid(self.o1)\n",
        "    self.o2 = np.dot(self.s1,self.weight2).astype(float)\n",
        "    self.s2 = self.sigmoid(self.o2)\n",
        "    self.o3 = np.dot(self.s2,self.weight3).astype(float)\n",
        "    self.s3 = self.sigmoid(self.o3)\n",
        "    return self.s3,self.s2,self.s1\n",
        "\n",
        "  def loss(self,y,output):\n",
        "    loss = 0\n",
        "    for i in range(len(output)):\n",
        "      loss += -(y_test.iloc[i][0]*np.log(output[0][i][0]) + (1-y_test.iloc[i][0])*(1-np.log(output[0][i][0])))\n",
        "      loss += -(y_test.iloc[i][1]*np.log(output[0][i][1]) + (1-y_test.iloc[i][1])*(1-np.log(output[0][i][1])))\n",
        "\n",
        "    return loss\n",
        "    \n",
        "  def back_prop(self,x,y,output_y,lr = 0.4):\n",
        "    #print(output_y)\n",
        "    #print(y)\n",
        "    self.dz3 = output_y - y\n",
        "    #print(self.dz2)\n",
        "    self.dw3 = (1/self.m)*np.dot(self.s2.T,self.dz3)\n",
        "    #print(self.weight2.shape)\n",
        "    #print(self.dz2.shape)\n",
        "    #print(self.weight2.dot(self.dz2).shape)\n",
        "    \n",
        "    self.dz2 = self.weight3.dot(self.dz3.T).T*self.s2*(1-self.s2)\n",
        "    self.dw2 = (1/self.m)*np.dot(self.dz2.T,self.s1).T\n",
        "\n",
        "    self.dz1 = self.weight2.dot(self.dz2.T).T*self.s1*(1-self.s1)\n",
        "    self.dw1 = (1/self.m)*np.dot(self.dz1.T,x).T\n",
        "\n",
        "    self.weight3 = self.weight3 - lr*self.dw3\n",
        "    self.weight2 = self.weight2 - lr*self.dw2\n",
        "    self.weight1 = self.weight1 - lr*self.dw1\n",
        "\n",
        "    return self.weight3,self.weight2,self.weight1\n",
        "\n",
        "  def train(self,x,y):\n",
        "    output = self.feed_forward(np.array(x[:]))\n",
        "    w3,w2,w1 = self.back_prop(np.array(x[:]),np.array(y[:]),output[0])\n",
        "    loss = self.loss(np.array(y[:]),output)\n",
        "    return loss,w3,w2,w1"
      ],
      "execution_count": null,
      "outputs": []
    },
    {
      "cell_type": "code",
      "metadata": {
        "id": "8LLe8b4MgEuj"
      },
      "source": [
        "model = ANN(6,5,10,2,101)\n",
        "output = model.feed_forward(np.array(x_train[:]))\n",
        "w3,w2,w1 = model.back_prop(np.array(x_train[:]),np.array(y_train[:]),output[0])"
      ],
      "execution_count": null,
      "outputs": []
    },
    {
      "cell_type": "code",
      "metadata": {
        "colab": {
          "base_uri": "https://localhost:8080/"
        },
        "id": "PGbBkKjSgLXg",
        "outputId": "68f5d038-bfa1-4ad5-9369-633f75849d33"
      },
      "source": [
        "print(w3)\n",
        "print(w2)\n",
        "print(w1)"
      ],
      "execution_count": null,
      "outputs": [
        {
          "output_type": "stream",
          "name": "stdout",
          "text": [
            "[[1.2082520809107928 -0.051010578138441856]\n",
            " [0.7062151164301553 0.36386095167818744]\n",
            " [1.3389598458594698 1.087058358940139]\n",
            " [-0.2520260810063547 1.1323651814645852]\n",
            " [1.3667655360884268 1.0485391157739445]\n",
            " [0.22331894067135322 -0.794603190341136]\n",
            " [-0.34328859583430016 -1.9361775578694567]\n",
            " [0.6210710621498006 -1.4684487634366414]\n",
            " [1.2640714323119981 -0.5658442434059489]\n",
            " [-0.4267071486775792 -0.8284195683064222]]\n",
            "[[-1.0264772438497844 0.6377951692377318 -2.043537100367106\n",
            "  -0.0007845440564735948 0.7320548718344567 -0.48342371124551864\n",
            "  0.1582635757686744 1.05591317108125 -2.626931312892883\n",
            "  -0.7895895286625852]\n",
            " [1.9900756466101384 -0.031889702125056506 1.9749077365104146\n",
            "  -1.4735806698928509 0.7132761587520389 -0.8516058760863405\n",
            "  -0.618341565536789 1.0601718906239868 0.2776280631166508\n",
            "  -1.1643871456590822]\n",
            " [-0.7400607574071433 -0.026163187188043727 0.07465954882390671\n",
            "  -0.6397781654025912 -0.6739213148495541 1.1564820946658332\n",
            "  -1.1596099132781286 -0.7914556318077062 -0.7287829770313486\n",
            "  -0.6445289028488306]\n",
            " [0.40100232711164074 1.2026889538143242 -0.219280070412008\n",
            "  2.0626575601542605 -0.7687064239336516 0.7942817385464825\n",
            "  1.2052791601003316 -0.8640122480283874 -1.239059991226831\n",
            "  -2.2865519858314944]\n",
            " [1.0267464134292912 1.1752229790697668 0.4771051727203778\n",
            "  1.336176988174315 1.215762058091213 0.4225481347300581\n",
            "  1.3082960178698517 0.10962058322302784 -1.112978647551013\n",
            "  -0.42473362039862966]]\n",
            "[[0.14652423324984606 0.5422124188465239 0.43926096308533735\n",
            "  -0.34072438650803494 1.085034308288241]\n",
            " [0.13372641581813327 -0.7260161565619361 2.2393423177307907\n",
            "  -0.19931916188381718 0.030302328116755407]\n",
            " [1.3335602590999196 0.8709310742559655 1.440870593306175\n",
            "  0.3598514296748841 1.614484927788449]\n",
            " [-1.0768712072599562 -1.2842833963239524 -0.877677406614885\n",
            "  -0.7123111952398986 -0.6929731993693716]\n",
            " [-1.3293352049875307 1.309740658806967 -0.7921904044601411\n",
            "  1.0712170729521502 -0.637489797164645]\n",
            " [0.5362851506639855 -0.33720052418174234 1.3680414304929456\n",
            "  -0.15061802062246799 0.3020835174151979]]\n"
          ]
        }
      ]
    },
    {
      "cell_type": "code",
      "metadata": {
        "colab": {
          "base_uri": "https://localhost:8080/"
        },
        "id": "T3luxVyDgdnu",
        "outputId": "400dfd3d-034d-48dd-b752-4418016d5bb6"
      },
      "source": [
        "print(w3.shape)\n",
        "print(w2.shape)\n",
        "print(w1.shape)"
      ],
      "execution_count": null,
      "outputs": [
        {
          "output_type": "stream",
          "name": "stdout",
          "text": [
            "(10, 2)\n",
            "(5, 10)\n",
            "(6, 5)\n"
          ]
        }
      ]
    },
    {
      "cell_type": "code",
      "metadata": {
        "id": "zl_hiYNDJYCi"
      },
      "source": [
        "model = ANN(6,5,10,2,101)\n",
        "output = model.feed_forward(np.array(x_train[:]))\n",
        "w3,w2,w1 = model.back_prop(np.array(x_train[:]),np.array(y_train[:]),output[0])"
      ],
      "execution_count": null,
      "outputs": []
    },
    {
      "cell_type": "code",
      "metadata": {
        "colab": {
          "base_uri": "https://localhost:8080/"
        },
        "id": "0vTeRoP8JY2b",
        "outputId": "6dd28b34-e929-4a6b-f883-f6759d156633"
      },
      "source": [
        "print(w3)\n",
        "print(w2)\n",
        "print(w1)"
      ],
      "execution_count": null,
      "outputs": [
        {
          "output_type": "stream",
          "name": "stdout",
          "text": [
            "[[1.1718368012212634 -0.6054725600174885]\n",
            " [1.2342635523739116 -1.0546708437607537]\n",
            " [-0.6546652090310191 -1.3382987457116369]\n",
            " [0.38909297140600224 -0.7927914974201804]\n",
            " [-0.6001852555722871 -1.3126764870429972]\n",
            " [-0.22619027264915148 1.0790961873883909]\n",
            " [-0.24435666075675563 -1.2365471911925077]\n",
            " [0.8210033244527324 0.0004524181717733]\n",
            " [-0.3912008935604595 0.054304485517526146]\n",
            " [0.19096480691615103 1.2177120667968078]]\n",
            "[[-0.7948912559629504 -0.4473736717031441 0.35875116838690496\n",
            "  -0.7721870710060514 0.14669364346230557 -1.01248779146306\n",
            "  0.11602869847062132 -1.469392900145189 -0.47160602623282133\n",
            "  -0.7767848823368232]\n",
            " [0.559638386814092 -0.7204189756818405 0.3272939075129706\n",
            "  1.325861963117641 -2.6694698903798906 -0.9368415314338552\n",
            "  -0.4187855244912974 -0.11300926537600872 1.0736470779353464\n",
            "  -1.262549501049864]\n",
            " [0.7124120400502443 -1.1221206966267387 0.9086107886231605\n",
            "  0.20312044052782954 -0.7217002597478728 1.527958713775026\n",
            "  -0.3297885848144718 0.17986553824090287 0.1790159487186546\n",
            "  1.064497524110648]\n",
            " [-0.12751632313937478 0.3294703879675334 0.6866604527055061\n",
            "  1.2637229918646216 0.18812048998193262 -1.0325693936759932\n",
            "  -0.9990403059362408 0.05294764891311411 0.3526145315935246\n",
            "  -1.5497713642795288]\n",
            " [-0.9863020881549834 1.571287580446512 -0.5383481499985969\n",
            "  0.1933805366368589 2.1505199005768327 0.9790999717247851\n",
            "  -2.851324990081634 -1.30442861341827 1.0047962147806158\n",
            "  1.706221840493783]]\n",
            "[[-1.303950017455855 1.2349930748395008 0.729421228317776\n",
            "  -0.45312924625916723 -0.2351187867302491]\n",
            " [-0.47704716541677505 0.3508895602661503 0.5973593769389768\n",
            "  0.0787641269861232 0.16045783245286838]\n",
            " [1.7435184943739734 -1.2801555010681769 0.009691768838660589\n",
            "  0.46954725403464387 0.33515031429023484]\n",
            " [0.6761143193694421 -1.4121602273332334 -0.8754175521048765\n",
            "  -0.8679128045820006 -0.08055831423001591]\n",
            " [0.8006453084051637 0.47419403810524513 0.37802946117386654\n",
            "  3.086778883556104 0.09396482631487449]\n",
            " [0.17649989952961315 -0.7315445177780758 0.6387350804607401\n",
            "  0.753024319159829 -0.6144123219023526]]\n"
          ]
        }
      ]
    },
    {
      "cell_type": "code",
      "metadata": {
        "id": "tTZCPYXpJcuQ"
      },
      "source": [
        "model = ANN(6,5,10,2,101)\n",
        "output = model.feed_forward(np.array(x_train[:]))\n",
        "w3,w2,w1 = model.back_prop(np.array(x_train[:]),np.array(y_train[:]),output[0])"
      ],
      "execution_count": null,
      "outputs": []
    },
    {
      "cell_type": "code",
      "metadata": {
        "colab": {
          "base_uri": "https://localhost:8080/"
        },
        "id": "DZ42rr8eJdo7",
        "outputId": "0050cfd0-1646-4005-cd93-68c344f060ae"
      },
      "source": [
        "print(w3)\n",
        "print(w2)\n",
        "print(w1)"
      ],
      "execution_count": null,
      "outputs": [
        {
          "output_type": "stream",
          "name": "stdout",
          "text": [
            "[[1.2082520809107928 -0.051010578138441856]\n",
            " [0.7062151164301553 0.36386095167818744]\n",
            " [1.3389598458594698 1.087058358940139]\n",
            " [-0.2520260810063547 1.1323651814645852]\n",
            " [1.3667655360884268 1.0485391157739445]\n",
            " [0.22331894067135322 -0.794603190341136]\n",
            " [-0.34328859583430016 -1.9361775578694567]\n",
            " [0.6210710621498006 -1.4684487634366414]\n",
            " [1.2640714323119981 -0.5658442434059489]\n",
            " [-0.4267071486775792 -0.8284195683064222]]\n",
            "[[-1.0264772438497844 0.6377951692377318 -2.043537100367106\n",
            "  -0.0007845440564735948 0.7320548718344567 -0.48342371124551864\n",
            "  0.1582635757686744 1.05591317108125 -2.626931312892883\n",
            "  -0.7895895286625852]\n",
            " [1.9900756466101384 -0.031889702125056506 1.9749077365104146\n",
            "  -1.4735806698928509 0.7132761587520389 -0.8516058760863405\n",
            "  -0.618341565536789 1.0601718906239868 0.2776280631166508\n",
            "  -1.1643871456590822]\n",
            " [-0.7400607574071433 -0.026163187188043727 0.07465954882390671\n",
            "  -0.6397781654025912 -0.6739213148495541 1.1564820946658332\n",
            "  -1.1596099132781286 -0.7914556318077062 -0.7287829770313486\n",
            "  -0.6445289028488306]\n",
            " [0.40100232711164074 1.2026889538143242 -0.219280070412008\n",
            "  2.0626575601542605 -0.7687064239336516 0.7942817385464825\n",
            "  1.2052791601003316 -0.8640122480283874 -1.239059991226831\n",
            "  -2.2865519858314944]\n",
            " [1.0267464134292912 1.1752229790697668 0.4771051727203778\n",
            "  1.336176988174315 1.215762058091213 0.4225481347300581\n",
            "  1.3082960178698517 0.10962058322302784 -1.112978647551013\n",
            "  -0.42473362039862966]]\n",
            "[[0.14652423324984606 0.5422124188465239 0.43926096308533735\n",
            "  -0.34072438650803494 1.085034308288241]\n",
            " [0.13372641581813327 -0.7260161565619361 2.2393423177307907\n",
            "  -0.19931916188381718 0.030302328116755407]\n",
            " [1.3335602590999196 0.8709310742559655 1.440870593306175\n",
            "  0.3598514296748841 1.614484927788449]\n",
            " [-1.0768712072599562 -1.2842833963239524 -0.877677406614885\n",
            "  -0.7123111952398986 -0.6929731993693716]\n",
            " [-1.3293352049875307 1.309740658806967 -0.7921904044601411\n",
            "  1.0712170729521502 -0.637489797164645]\n",
            " [0.5362851506639855 -0.33720052418174234 1.3680414304929456\n",
            "  -0.15061802062246799 0.3020835174151979]]\n"
          ]
        }
      ]
    },
    {
      "cell_type": "code",
      "metadata": {
        "colab": {
          "base_uri": "https://localhost:8080/"
        },
        "id": "jZrjalgWgjPJ",
        "outputId": "b0da2ec7-cce2-474b-e60d-e19312af1747"
      },
      "source": [
        "n_epochs = 50\n",
        "model2 = ANN(6,5,10,2,120)\n",
        "for i in range(n_epochs):\n",
        "  result = model2.train(x_train,y_train)\n",
        "  print(\"Epoch:-\",i,\" Loss:-\",result[0])\n"
      ],
      "execution_count": null,
      "outputs": [
        {
          "output_type": "stream",
          "name": "stdout",
          "text": [
            "Epoch:- 0  Loss:- -4.3560579645622495\n",
            "Epoch:- 1  Loss:- -4.307020013928691\n",
            "Epoch:- 2  Loss:- -4.259189804286\n",
            "Epoch:- 3  Loss:- -4.214889082074143\n",
            "Epoch:- 4  Loss:- -4.176306713309287\n",
            "Epoch:- 5  Loss:- -4.1448925316234435\n",
            "Epoch:- 6  Loss:- -4.12078569011467\n",
            "Epoch:- 7  Loss:- -4.102664615042545\n",
            "Epoch:- 8  Loss:- -4.08830761149033\n",
            "Epoch:- 9  Loss:- -4.0756468232610095\n",
            "Epoch:- 10  Loss:- -4.063593594517667\n",
            "Epoch:- 11  Loss:- -4.052096414386723\n",
            "Epoch:- 12  Loss:- -4.041622808419596\n",
            "Epoch:- 13  Loss:- -4.0326269612220775\n",
            "Epoch:- 14  Loss:- -4.025309417822723\n",
            "Epoch:- 15  Loss:- -4.019624012385725\n",
            "Epoch:- 16  Loss:- -4.015380014524206\n",
            "Epoch:- 17  Loss:- -4.012341314052167\n",
            "Epoch:- 18  Loss:- -4.010292852011562\n",
            "Epoch:- 19  Loss:- -4.009079113723723\n",
            "Epoch:- 20  Loss:- -4.008627905840615\n",
            "Epoch:- 21  Loss:- -4.008966126354808\n",
            "Epoch:- 22  Loss:- -4.010207279791512\n",
            "Epoch:- 23  Loss:- -4.012429266979227\n",
            "Epoch:- 24  Loss:- -4.0153543107539935\n",
            "Epoch:- 25  Loss:- -4.018080491859678\n",
            "Epoch:- 26  Loss:- -4.019441007308468\n",
            "Epoch:- 27  Loss:- -4.018740666306972\n",
            "Epoch:- 28  Loss:- -4.016015382638009\n",
            "Epoch:- 29  Loss:- -4.011872187472716\n",
            "Epoch:- 30  Loss:- -4.007388948133405\n",
            "Epoch:- 31  Loss:- -4.003876047118928\n",
            "Epoch:- 32  Loss:- -4.001909805253559\n",
            "Epoch:- 33  Loss:- -4.000984348931788\n",
            "Epoch:- 34  Loss:- -4.0005343821193975\n",
            "Epoch:- 35  Loss:- -4.00030327942045\n",
            "Epoch:- 36  Loss:- -4.000179454874557\n",
            "Epoch:- 37  Loss:- -4.000109967420052\n",
            "Epoch:- 38  Loss:- -4.000069214743634\n",
            "Epoch:- 39  Loss:- -4.000044431157559\n",
            "Epoch:- 40  Loss:- -4.000028934508488\n",
            "Epoch:- 41  Loss:- -4.000019042292504\n",
            "Epoch:- 42  Loss:- -4.0000126302940755\n",
            "Epoch:- 43  Loss:- -4.000008426638759\n",
            "Epoch:- 44  Loss:- -4.000005647203612\n",
            "Epoch:- 45  Loss:- -4.000003797577645\n",
            "Epoch:- 46  Loss:- -4.000002560623913\n",
            "Epoch:- 47  Loss:- -4.000001730234928\n",
            "Epoch:- 48  Loss:- -4.000001171111306\n",
            "Epoch:- 49  Loss:- -4.000000793747157\n"
          ]
        }
      ]
    },
    {
      "cell_type": "code",
      "metadata": {
        "id": "7qQi3HWHEjmV"
      },
      "source": [
        "output = model2.feed_forward(np.array(x_test[:]))"
      ],
      "execution_count": null,
      "outputs": []
    },
    {
      "cell_type": "code",
      "metadata": {
        "colab": {
          "base_uri": "https://localhost:8080/"
        },
        "id": "VyR-tow-Ei4J",
        "outputId": "aaaeae36-3bd5-4384-8db5-33cffb89c904"
      },
      "source": [
        "print(\"testing loss:- \",model2.loss(np.array(y_test[:]),output))"
      ],
      "execution_count": null,
      "outputs": [
        {
          "output_type": "stream",
          "name": "stdout",
          "text": [
            "testing loss:-  -4.000001701939577\n"
          ]
        }
      ]
    }
  ]
}